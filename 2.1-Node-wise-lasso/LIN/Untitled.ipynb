{
 "cells": [
  {
   "cell_type": "code",
   "execution_count": 1,
   "metadata": {},
   "outputs": [],
   "source": [
    "import pandas as pd\n",
    "import numpy as np"
   ]
  },
  {
   "cell_type": "code",
   "execution_count": 74,
   "metadata": {},
   "outputs": [],
   "source": [
    "df = pd.DataFrame({\"E_1\":[0.67574,0.99199,0.95368,0.43343],\"E_2\":[0.74338,0.99140,0.95439,0.59768],\"n\":[100,1000,250,50],\"p\":[100,20,50,100],\"p/n\":[1,0.02,0.2,2]})"
   ]
  },
  {
   "cell_type": "code",
   "execution_count": 75,
   "metadata": {},
   "outputs": [],
   "source": [
    "#df = df.append(pd.DataFrame([[0.54959,0.0285,0.56245,0.02834,100,50,0.5]], columns=['E_1','sd(E_1)','E_2','sd(E_2)','n','p','p/n']))"
   ]
  },
  {
   "cell_type": "code",
   "execution_count": 76,
   "metadata": {},
   "outputs": [],
   "source": [
    "#df = df.append(pd.DataFrame([[0.42806,0.01219,0.53615,0.01063,100,150,1.5]], columns=['E_1','sd(E_1)','E_2','sd(E_2)','n','p','p/n']))"
   ]
  },
  {
   "cell_type": "code",
   "execution_count": 77,
   "metadata": {},
   "outputs": [],
   "source": [
    "df = df.append(pd.DataFrame([[0.27064,0.08316,0.42851,0.08770,10,20,2]], columns=['E_1','sd(E_1)','E_2','sd(E_2)','n','p','p/n']))"
   ]
  },
  {
   "cell_type": "code",
   "execution_count": 78,
   "metadata": {},
   "outputs": [],
   "source": [
    "df = df.append(pd.DataFrame([[0.55973,0.07441,0.56433,0.07290,100,20,0.2]], columns=['E_1','sd(E_1)','E_2','sd(E_2)','n','p','p/n']))"
   ]
  },
  {
   "cell_type": "code",
   "execution_count": 79,
   "metadata": {},
   "outputs": [],
   "source": [
    "df = df.append(pd.DataFrame([[0.11553,0.02741,0.24648,0.03453,10,50,5]], columns=['E_1','sd(E_1)','E_2','sd(E_2)','n','p','p/n']))"
   ]
  },
  {
   "cell_type": "code",
   "execution_count": 80,
   "metadata": {},
   "outputs": [],
   "source": [
    "df = df.append(pd.DataFrame([[0.92849,0.03108,0.92817,0.03162,1000,20,0.02]], columns=['E_1','sd(E_1)','E_2','sd(E_2)','n','p','p/n']))"
   ]
  },
  {
   "cell_type": "code",
   "execution_count": 81,
   "metadata": {},
   "outputs": [],
   "source": [
    "df = df.append(pd.DataFrame([[0.97137,0.01750,0.96722,0.02460,10000,20,0.002]], columns=['E_1','sd(E_1)','E_2','sd(E_2)','n','p','p/n']))"
   ]
  },
  {
   "cell_type": "code",
   "execution_count": 82,
   "metadata": {},
   "outputs": [],
   "source": [
    "df = df.append(pd.DataFrame([[0.54857,0.02672,0.55819,0.02498,100,50,0.5]], columns=['E_1','sd(E_1)','E_2','sd(E_2)','n','p','p/n']))"
   ]
  },
  {
   "cell_type": "code",
   "execution_count": 83,
   "metadata": {},
   "outputs": [],
   "source": [
    "df = df.append(pd.DataFrame([[0.92237,0.01717,0.92280,0.01650,1000,50,0.05]], columns=['E_1','sd(E_1)','E_2','sd(E_2)','n','p','p/n']))"
   ]
  },
  {
   "cell_type": "code",
   "execution_count": 84,
   "metadata": {},
   "outputs": [],
   "source": [
    "df = df.append(pd.DataFrame([[0.05551,0.00949,0.13197,0.01376,10,100,10]], columns=['E_1','sd(E_1)','E_2','sd(E_2)','n','p','p/n']))"
   ]
  },
  {
   "cell_type": "code",
   "execution_count": 85,
   "metadata": {},
   "outputs": [],
   "source": [
    "df = df.append(pd.DataFrame([[0.99432,0.00976,0.99573,0.00675,10000,50,0.005]], columns=['E_1','sd(E_1)','E_2','sd(E_2)','n','p','p/n']))"
   ]
  },
  {
   "cell_type": "code",
   "execution_count": 86,
   "metadata": {},
   "outputs": [],
   "source": [
    "df = df.append(pd.DataFrame([[0.50985,0.01420,0.55533,0.01422,100,100,1]], columns=['E_1','sd(E_1)','E_2','sd(E_2)','n','p','p/n']))"
   ]
  },
  {
   "cell_type": "code",
   "execution_count": 87,
   "metadata": {},
   "outputs": [],
   "source": [
    "df = df.append(pd.DataFrame([[0.92685,0.00806,0.92830,0.00775,1000,100,0.1]], columns=['E_1','sd(E_1)','E_2','sd(E_2)','n','p','p/n']))"
   ]
  },
  {
   "cell_type": "code",
   "execution_count": 88,
   "metadata": {},
   "outputs": [],
   "source": [
    "df = df.append(pd.DataFrame([[0.99825,0.00121,0.99810,0.00222,10000,100,0.01]], columns=['E_1','sd(E_1)','E_2','sd(E_2)','n','p','p/n']))"
   ]
  },
  {
   "cell_type": "code",
   "execution_count": 89,
   "metadata": {},
   "outputs": [],
   "source": [
    "df=df.dropna()"
   ]
  },
  {
   "cell_type": "code",
   "execution_count": null,
   "metadata": {},
   "outputs": [],
   "source": []
  },
  {
   "cell_type": "code",
   "execution_count": null,
   "metadata": {},
   "outputs": [],
   "source": []
  },
  {
   "cell_type": "code",
   "execution_count": 90,
   "metadata": {},
   "outputs": [
    {
     "data": {
      "text/html": [
       "<div>\n",
       "<style scoped>\n",
       "    .dataframe tbody tr th:only-of-type {\n",
       "        vertical-align: middle;\n",
       "    }\n",
       "\n",
       "    .dataframe tbody tr th {\n",
       "        vertical-align: top;\n",
       "    }\n",
       "\n",
       "    .dataframe thead th {\n",
       "        text-align: right;\n",
       "    }\n",
       "</style>\n",
       "<table border=\"1\" class=\"dataframe\">\n",
       "  <thead>\n",
       "    <tr style=\"text-align: right;\">\n",
       "      <th></th>\n",
       "      <th>E_1</th>\n",
       "      <th>E_2</th>\n",
       "      <th>n</th>\n",
       "      <th>p</th>\n",
       "      <th>p/n</th>\n",
       "      <th>sd(E_1)</th>\n",
       "      <th>sd(E_2)</th>\n",
       "    </tr>\n",
       "  </thead>\n",
       "  <tbody>\n",
       "    <tr>\n",
       "      <th>0</th>\n",
       "      <td>0.27064</td>\n",
       "      <td>0.42851</td>\n",
       "      <td>10</td>\n",
       "      <td>20</td>\n",
       "      <td>2.000</td>\n",
       "      <td>0.08316</td>\n",
       "      <td>0.08770</td>\n",
       "    </tr>\n",
       "    <tr>\n",
       "      <th>0</th>\n",
       "      <td>0.55973</td>\n",
       "      <td>0.56433</td>\n",
       "      <td>100</td>\n",
       "      <td>20</td>\n",
       "      <td>0.200</td>\n",
       "      <td>0.07441</td>\n",
       "      <td>0.07290</td>\n",
       "    </tr>\n",
       "    <tr>\n",
       "      <th>0</th>\n",
       "      <td>0.11553</td>\n",
       "      <td>0.24648</td>\n",
       "      <td>10</td>\n",
       "      <td>50</td>\n",
       "      <td>5.000</td>\n",
       "      <td>0.02741</td>\n",
       "      <td>0.03453</td>\n",
       "    </tr>\n",
       "    <tr>\n",
       "      <th>0</th>\n",
       "      <td>0.92849</td>\n",
       "      <td>0.92817</td>\n",
       "      <td>1000</td>\n",
       "      <td>20</td>\n",
       "      <td>0.020</td>\n",
       "      <td>0.03108</td>\n",
       "      <td>0.03162</td>\n",
       "    </tr>\n",
       "    <tr>\n",
       "      <th>0</th>\n",
       "      <td>0.97137</td>\n",
       "      <td>0.96722</td>\n",
       "      <td>10000</td>\n",
       "      <td>20</td>\n",
       "      <td>0.002</td>\n",
       "      <td>0.01750</td>\n",
       "      <td>0.02460</td>\n",
       "    </tr>\n",
       "    <tr>\n",
       "      <th>0</th>\n",
       "      <td>0.54857</td>\n",
       "      <td>0.55819</td>\n",
       "      <td>100</td>\n",
       "      <td>50</td>\n",
       "      <td>0.500</td>\n",
       "      <td>0.02672</td>\n",
       "      <td>0.02498</td>\n",
       "    </tr>\n",
       "    <tr>\n",
       "      <th>0</th>\n",
       "      <td>0.92237</td>\n",
       "      <td>0.92280</td>\n",
       "      <td>1000</td>\n",
       "      <td>50</td>\n",
       "      <td>0.050</td>\n",
       "      <td>0.01717</td>\n",
       "      <td>0.01650</td>\n",
       "    </tr>\n",
       "    <tr>\n",
       "      <th>0</th>\n",
       "      <td>0.05551</td>\n",
       "      <td>0.13197</td>\n",
       "      <td>10</td>\n",
       "      <td>100</td>\n",
       "      <td>10.000</td>\n",
       "      <td>0.00949</td>\n",
       "      <td>0.01376</td>\n",
       "    </tr>\n",
       "    <tr>\n",
       "      <th>0</th>\n",
       "      <td>0.99432</td>\n",
       "      <td>0.99573</td>\n",
       "      <td>10000</td>\n",
       "      <td>50</td>\n",
       "      <td>0.005</td>\n",
       "      <td>0.00976</td>\n",
       "      <td>0.00675</td>\n",
       "    </tr>\n",
       "    <tr>\n",
       "      <th>0</th>\n",
       "      <td>0.50985</td>\n",
       "      <td>0.55533</td>\n",
       "      <td>100</td>\n",
       "      <td>100</td>\n",
       "      <td>1.000</td>\n",
       "      <td>0.01420</td>\n",
       "      <td>0.01422</td>\n",
       "    </tr>\n",
       "    <tr>\n",
       "      <th>0</th>\n",
       "      <td>0.92685</td>\n",
       "      <td>0.92830</td>\n",
       "      <td>1000</td>\n",
       "      <td>100</td>\n",
       "      <td>0.100</td>\n",
       "      <td>0.00806</td>\n",
       "      <td>0.00775</td>\n",
       "    </tr>\n",
       "    <tr>\n",
       "      <th>0</th>\n",
       "      <td>0.99825</td>\n",
       "      <td>0.99810</td>\n",
       "      <td>10000</td>\n",
       "      <td>100</td>\n",
       "      <td>0.010</td>\n",
       "      <td>0.00121</td>\n",
       "      <td>0.00222</td>\n",
       "    </tr>\n",
       "  </tbody>\n",
       "</table>\n",
       "</div>"
      ],
      "text/plain": [
       "       E_1      E_2      n    p     p/n  sd(E_1)  sd(E_2)\n",
       "0  0.27064  0.42851     10   20   2.000  0.08316  0.08770\n",
       "0  0.55973  0.56433    100   20   0.200  0.07441  0.07290\n",
       "0  0.11553  0.24648     10   50   5.000  0.02741  0.03453\n",
       "0  0.92849  0.92817   1000   20   0.020  0.03108  0.03162\n",
       "0  0.97137  0.96722  10000   20   0.002  0.01750  0.02460\n",
       "0  0.54857  0.55819    100   50   0.500  0.02672  0.02498\n",
       "0  0.92237  0.92280   1000   50   0.050  0.01717  0.01650\n",
       "0  0.05551  0.13197     10  100  10.000  0.00949  0.01376\n",
       "0  0.99432  0.99573  10000   50   0.005  0.00976  0.00675\n",
       "0  0.50985  0.55533    100  100   1.000  0.01420  0.01422\n",
       "0  0.92685  0.92830   1000  100   0.100  0.00806  0.00775\n",
       "0  0.99825  0.99810  10000  100   0.010  0.00121  0.00222"
      ]
     },
     "execution_count": 90,
     "metadata": {},
     "output_type": "execute_result"
    }
   ],
   "source": [
    "df"
   ]
  },
  {
   "cell_type": "code",
   "execution_count": 100,
   "metadata": {},
   "outputs": [],
   "source": [
    "df = df.sort_values(by=['n','p'])"
   ]
  },
  {
   "cell_type": "code",
   "execution_count": 101,
   "metadata": {},
   "outputs": [],
   "source": [
    "df = df.reset_index(drop=True)"
   ]
  },
  {
   "cell_type": "code",
   "execution_count": 102,
   "metadata": {},
   "outputs": [
    {
     "data": {
      "text/html": [
       "<div>\n",
       "<style scoped>\n",
       "    .dataframe tbody tr th:only-of-type {\n",
       "        vertical-align: middle;\n",
       "    }\n",
       "\n",
       "    .dataframe tbody tr th {\n",
       "        vertical-align: top;\n",
       "    }\n",
       "\n",
       "    .dataframe thead th {\n",
       "        text-align: right;\n",
       "    }\n",
       "</style>\n",
       "<table border=\"1\" class=\"dataframe\">\n",
       "  <thead>\n",
       "    <tr style=\"text-align: right;\">\n",
       "      <th></th>\n",
       "      <th>E_1</th>\n",
       "      <th>E_2</th>\n",
       "      <th>n</th>\n",
       "      <th>p</th>\n",
       "      <th>p/n</th>\n",
       "      <th>sd(E_1)</th>\n",
       "      <th>sd(E_2)</th>\n",
       "    </tr>\n",
       "  </thead>\n",
       "  <tbody>\n",
       "    <tr>\n",
       "      <th>0</th>\n",
       "      <td>0.27064</td>\n",
       "      <td>0.42851</td>\n",
       "      <td>10</td>\n",
       "      <td>20</td>\n",
       "      <td>2.000</td>\n",
       "      <td>0.08316</td>\n",
       "      <td>0.08770</td>\n",
       "    </tr>\n",
       "    <tr>\n",
       "      <th>1</th>\n",
       "      <td>0.11553</td>\n",
       "      <td>0.24648</td>\n",
       "      <td>10</td>\n",
       "      <td>50</td>\n",
       "      <td>5.000</td>\n",
       "      <td>0.02741</td>\n",
       "      <td>0.03453</td>\n",
       "    </tr>\n",
       "    <tr>\n",
       "      <th>2</th>\n",
       "      <td>0.05551</td>\n",
       "      <td>0.13197</td>\n",
       "      <td>10</td>\n",
       "      <td>100</td>\n",
       "      <td>10.000</td>\n",
       "      <td>0.00949</td>\n",
       "      <td>0.01376</td>\n",
       "    </tr>\n",
       "    <tr>\n",
       "      <th>3</th>\n",
       "      <td>0.55973</td>\n",
       "      <td>0.56433</td>\n",
       "      <td>100</td>\n",
       "      <td>20</td>\n",
       "      <td>0.200</td>\n",
       "      <td>0.07441</td>\n",
       "      <td>0.07290</td>\n",
       "    </tr>\n",
       "    <tr>\n",
       "      <th>4</th>\n",
       "      <td>0.54857</td>\n",
       "      <td>0.55819</td>\n",
       "      <td>100</td>\n",
       "      <td>50</td>\n",
       "      <td>0.500</td>\n",
       "      <td>0.02672</td>\n",
       "      <td>0.02498</td>\n",
       "    </tr>\n",
       "    <tr>\n",
       "      <th>5</th>\n",
       "      <td>0.50985</td>\n",
       "      <td>0.55533</td>\n",
       "      <td>100</td>\n",
       "      <td>100</td>\n",
       "      <td>1.000</td>\n",
       "      <td>0.01420</td>\n",
       "      <td>0.01422</td>\n",
       "    </tr>\n",
       "    <tr>\n",
       "      <th>6</th>\n",
       "      <td>0.92849</td>\n",
       "      <td>0.92817</td>\n",
       "      <td>1000</td>\n",
       "      <td>20</td>\n",
       "      <td>0.020</td>\n",
       "      <td>0.03108</td>\n",
       "      <td>0.03162</td>\n",
       "    </tr>\n",
       "    <tr>\n",
       "      <th>7</th>\n",
       "      <td>0.92237</td>\n",
       "      <td>0.92280</td>\n",
       "      <td>1000</td>\n",
       "      <td>50</td>\n",
       "      <td>0.050</td>\n",
       "      <td>0.01717</td>\n",
       "      <td>0.01650</td>\n",
       "    </tr>\n",
       "    <tr>\n",
       "      <th>8</th>\n",
       "      <td>0.92685</td>\n",
       "      <td>0.92830</td>\n",
       "      <td>1000</td>\n",
       "      <td>100</td>\n",
       "      <td>0.100</td>\n",
       "      <td>0.00806</td>\n",
       "      <td>0.00775</td>\n",
       "    </tr>\n",
       "    <tr>\n",
       "      <th>9</th>\n",
       "      <td>0.97137</td>\n",
       "      <td>0.96722</td>\n",
       "      <td>10000</td>\n",
       "      <td>20</td>\n",
       "      <td>0.002</td>\n",
       "      <td>0.01750</td>\n",
       "      <td>0.02460</td>\n",
       "    </tr>\n",
       "    <tr>\n",
       "      <th>10</th>\n",
       "      <td>0.99432</td>\n",
       "      <td>0.99573</td>\n",
       "      <td>10000</td>\n",
       "      <td>50</td>\n",
       "      <td>0.005</td>\n",
       "      <td>0.00976</td>\n",
       "      <td>0.00675</td>\n",
       "    </tr>\n",
       "    <tr>\n",
       "      <th>11</th>\n",
       "      <td>0.99825</td>\n",
       "      <td>0.99810</td>\n",
       "      <td>10000</td>\n",
       "      <td>100</td>\n",
       "      <td>0.010</td>\n",
       "      <td>0.00121</td>\n",
       "      <td>0.00222</td>\n",
       "    </tr>\n",
       "  </tbody>\n",
       "</table>\n",
       "</div>"
      ],
      "text/plain": [
       "        E_1      E_2      n    p     p/n  sd(E_1)  sd(E_2)\n",
       "0   0.27064  0.42851     10   20   2.000  0.08316  0.08770\n",
       "1   0.11553  0.24648     10   50   5.000  0.02741  0.03453\n",
       "2   0.05551  0.13197     10  100  10.000  0.00949  0.01376\n",
       "3   0.55973  0.56433    100   20   0.200  0.07441  0.07290\n",
       "4   0.54857  0.55819    100   50   0.500  0.02672  0.02498\n",
       "5   0.50985  0.55533    100  100   1.000  0.01420  0.01422\n",
       "6   0.92849  0.92817   1000   20   0.020  0.03108  0.03162\n",
       "7   0.92237  0.92280   1000   50   0.050  0.01717  0.01650\n",
       "8   0.92685  0.92830   1000  100   0.100  0.00806  0.00775\n",
       "9   0.97137  0.96722  10000   20   0.002  0.01750  0.02460\n",
       "10  0.99432  0.99573  10000   50   0.005  0.00976  0.00675\n",
       "11  0.99825  0.99810  10000  100   0.010  0.00121  0.00222"
      ]
     },
     "execution_count": 102,
     "metadata": {},
     "output_type": "execute_result"
    }
   ],
   "source": [
    "df"
   ]
  },
  {
   "cell_type": "code",
   "execution_count": 113,
   "metadata": {},
   "outputs": [],
   "source": [
    "data = df.iloc[:,:5]"
   ]
  },
  {
   "cell_type": "code",
   "execution_count": 112,
   "metadata": {},
   "outputs": [],
   "source": [
    "data.to_csv(r'datalog.csv')"
   ]
  },
  {
   "cell_type": "code",
   "execution_count": null,
   "metadata": {},
   "outputs": [],
   "source": []
  }
 ],
 "metadata": {
  "kernelspec": {
   "display_name": "Python 3",
   "language": "python",
   "name": "python3"
  },
  "language_info": {
   "codemirror_mode": {
    "name": "ipython",
    "version": 3
   },
   "file_extension": ".py",
   "mimetype": "text/x-python",
   "name": "python",
   "nbconvert_exporter": "python",
   "pygments_lexer": "ipython3",
   "version": "3.7.1"
  }
 },
 "nbformat": 4,
 "nbformat_minor": 2
}
