{
 "cells": [
  {
   "cell_type": "code",
   "execution_count": 1,
   "metadata": {},
   "outputs": [],
   "source": [
    "import pandas as pd\n",
    "import numpy as np"
   ]
  },
  {
   "cell_type": "code",
   "execution_count": 10,
   "metadata": {},
   "outputs": [],
   "source": [
    "df = pd.DataFrame({\"E_1\":[0.67574,0.99199,0.95368,0.43343],\"E_2\":[0.74338,0.99140,0.95439,0.59768],\"n\":[100,1000,250,50],\"p\":[100,20,50,100],\"p/n\":[1,0.02,0.2,2]})"
   ]
  },
  {
   "cell_type": "code",
   "execution_count": 11,
   "metadata": {},
   "outputs": [
    {
     "data": {
      "text/html": [
       "<div>\n",
       "<style scoped>\n",
       "    .dataframe tbody tr th:only-of-type {\n",
       "        vertical-align: middle;\n",
       "    }\n",
       "\n",
       "    .dataframe tbody tr th {\n",
       "        vertical-align: top;\n",
       "    }\n",
       "\n",
       "    .dataframe thead th {\n",
       "        text-align: right;\n",
       "    }\n",
       "</style>\n",
       "<table border=\"1\" class=\"dataframe\">\n",
       "  <thead>\n",
       "    <tr style=\"text-align: right;\">\n",
       "      <th></th>\n",
       "      <th>E_1</th>\n",
       "      <th>E_2</th>\n",
       "      <th>n</th>\n",
       "      <th>p</th>\n",
       "      <th>p/n</th>\n",
       "    </tr>\n",
       "  </thead>\n",
       "  <tbody>\n",
       "    <tr>\n",
       "      <th>1</th>\n",
       "      <td>0.99199</td>\n",
       "      <td>0.99140</td>\n",
       "      <td>1000</td>\n",
       "      <td>20</td>\n",
       "      <td>0.02</td>\n",
       "    </tr>\n",
       "    <tr>\n",
       "      <th>2</th>\n",
       "      <td>0.95368</td>\n",
       "      <td>0.95439</td>\n",
       "      <td>250</td>\n",
       "      <td>50</td>\n",
       "      <td>0.20</td>\n",
       "    </tr>\n",
       "    <tr>\n",
       "      <th>0</th>\n",
       "      <td>0.67574</td>\n",
       "      <td>0.74338</td>\n",
       "      <td>100</td>\n",
       "      <td>100</td>\n",
       "      <td>1.00</td>\n",
       "    </tr>\n",
       "    <tr>\n",
       "      <th>3</th>\n",
       "      <td>0.43343</td>\n",
       "      <td>0.59768</td>\n",
       "      <td>50</td>\n",
       "      <td>100</td>\n",
       "      <td>2.00</td>\n",
       "    </tr>\n",
       "  </tbody>\n",
       "</table>\n",
       "</div>"
      ],
      "text/plain": [
       "       E_1      E_2     n    p   p/n\n",
       "1  0.99199  0.99140  1000   20  0.02\n",
       "2  0.95368  0.95439   250   50  0.20\n",
       "0  0.67574  0.74338   100  100  1.00\n",
       "3  0.43343  0.59768    50  100  2.00"
      ]
     },
     "execution_count": 11,
     "metadata": {},
     "output_type": "execute_result"
    }
   ],
   "source": [
    "df.sort_values(by=['p/n'])"
   ]
  },
  {
   "cell_type": "code",
   "execution_count": 12,
   "metadata": {},
   "outputs": [],
   "source": [
    "df = df.append(pd.DataFrame([[0.54959,0.0285,0.56245,0.02834,100,50,0.5]], columns=['E_1','sd(E_1)','E_2','sd(E_2)','n','p','p/n']))"
   ]
  },
  {
   "cell_type": "code",
   "execution_count": 13,
   "metadata": {},
   "outputs": [],
   "source": [
    "df = df.append(pd.DataFrame([[0.42806,0.01219,0.53615,0.01063,100,150,1.5]], columns=['E_1','sd(E_1)','E_2','sd(E_2)','n','p','p/n']))"
   ]
  },
  {
   "cell_type": "code",
   "execution_count": null,
   "metadata": {},
   "outputs": [],
   "source": []
  },
  {
   "cell_type": "code",
   "execution_count": null,
   "metadata": {},
   "outputs": [],
   "source": []
  },
  {
   "cell_type": "code",
   "execution_count": null,
   "metadata": {},
   "outputs": [],
   "source": []
  },
  {
   "cell_type": "code",
   "execution_count": null,
   "metadata": {},
   "outputs": [],
   "source": []
  },
  {
   "cell_type": "code",
   "execution_count": null,
   "metadata": {},
   "outputs": [],
   "source": []
  },
  {
   "cell_type": "code",
   "execution_count": null,
   "metadata": {},
   "outputs": [],
   "source": []
  },
  {
   "cell_type": "code",
   "execution_count": 14,
   "metadata": {},
   "outputs": [
    {
     "data": {
      "text/html": [
       "<div>\n",
       "<style scoped>\n",
       "    .dataframe tbody tr th:only-of-type {\n",
       "        vertical-align: middle;\n",
       "    }\n",
       "\n",
       "    .dataframe tbody tr th {\n",
       "        vertical-align: top;\n",
       "    }\n",
       "\n",
       "    .dataframe thead th {\n",
       "        text-align: right;\n",
       "    }\n",
       "</style>\n",
       "<table border=\"1\" class=\"dataframe\">\n",
       "  <thead>\n",
       "    <tr style=\"text-align: right;\">\n",
       "      <th></th>\n",
       "      <th>E_1</th>\n",
       "      <th>E_2</th>\n",
       "      <th>n</th>\n",
       "      <th>p</th>\n",
       "      <th>p/n</th>\n",
       "      <th>sd(E_1)</th>\n",
       "      <th>sd(E_2)</th>\n",
       "    </tr>\n",
       "  </thead>\n",
       "  <tbody>\n",
       "    <tr>\n",
       "      <th>0</th>\n",
       "      <td>0.67574</td>\n",
       "      <td>0.74338</td>\n",
       "      <td>100</td>\n",
       "      <td>100</td>\n",
       "      <td>1.00</td>\n",
       "      <td>NaN</td>\n",
       "      <td>NaN</td>\n",
       "    </tr>\n",
       "    <tr>\n",
       "      <th>1</th>\n",
       "      <td>0.99199</td>\n",
       "      <td>0.99140</td>\n",
       "      <td>1000</td>\n",
       "      <td>20</td>\n",
       "      <td>0.02</td>\n",
       "      <td>NaN</td>\n",
       "      <td>NaN</td>\n",
       "    </tr>\n",
       "    <tr>\n",
       "      <th>2</th>\n",
       "      <td>0.95368</td>\n",
       "      <td>0.95439</td>\n",
       "      <td>250</td>\n",
       "      <td>50</td>\n",
       "      <td>0.20</td>\n",
       "      <td>NaN</td>\n",
       "      <td>NaN</td>\n",
       "    </tr>\n",
       "    <tr>\n",
       "      <th>3</th>\n",
       "      <td>0.43343</td>\n",
       "      <td>0.59768</td>\n",
       "      <td>50</td>\n",
       "      <td>100</td>\n",
       "      <td>2.00</td>\n",
       "      <td>NaN</td>\n",
       "      <td>NaN</td>\n",
       "    </tr>\n",
       "    <tr>\n",
       "      <th>0</th>\n",
       "      <td>0.54959</td>\n",
       "      <td>0.56245</td>\n",
       "      <td>100</td>\n",
       "      <td>50</td>\n",
       "      <td>0.50</td>\n",
       "      <td>0.02850</td>\n",
       "      <td>0.02834</td>\n",
       "    </tr>\n",
       "    <tr>\n",
       "      <th>0</th>\n",
       "      <td>0.42806</td>\n",
       "      <td>0.53615</td>\n",
       "      <td>100</td>\n",
       "      <td>150</td>\n",
       "      <td>1.50</td>\n",
       "      <td>0.01219</td>\n",
       "      <td>0.01063</td>\n",
       "    </tr>\n",
       "  </tbody>\n",
       "</table>\n",
       "</div>"
      ],
      "text/plain": [
       "       E_1      E_2     n    p   p/n  sd(E_1)  sd(E_2)\n",
       "0  0.67574  0.74338   100  100  1.00      NaN      NaN\n",
       "1  0.99199  0.99140  1000   20  0.02      NaN      NaN\n",
       "2  0.95368  0.95439   250   50  0.20      NaN      NaN\n",
       "3  0.43343  0.59768    50  100  2.00      NaN      NaN\n",
       "0  0.54959  0.56245   100   50  0.50  0.02850  0.02834\n",
       "0  0.42806  0.53615   100  150  1.50  0.01219  0.01063"
      ]
     },
     "execution_count": 14,
     "metadata": {},
     "output_type": "execute_result"
    }
   ],
   "source": [
    "df"
   ]
  },
  {
   "cell_type": "code",
   "execution_count": 15,
   "metadata": {},
   "outputs": [],
   "source": [
    "df.to_csv(r'datalog.csv')"
   ]
  },
  {
   "cell_type": "code",
   "execution_count": null,
   "metadata": {},
   "outputs": [],
   "source": []
  }
 ],
 "metadata": {
  "kernelspec": {
   "display_name": "Python 3",
   "language": "python",
   "name": "python3"
  },
  "language_info": {
   "codemirror_mode": {
    "name": "ipython",
    "version": 3
   },
   "file_extension": ".py",
   "mimetype": "text/x-python",
   "name": "python",
   "nbconvert_exporter": "python",
   "pygments_lexer": "ipython3",
   "version": "3.7.1"
  }
 },
 "nbformat": 4,
 "nbformat_minor": 2
}
